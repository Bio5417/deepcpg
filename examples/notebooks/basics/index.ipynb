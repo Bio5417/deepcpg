{
 "cells": [
  {
   "cell_type": "markdown",
   "metadata": {
    "deletable": true,
    "editable": true
   },
   "source": [
    "# DeepCpG basics"
   ]
  },
  {
   "cell_type": "markdown",
   "metadata": {
    "deletable": true,
    "editable": true
   },
   "source": [
    "This tutorial describes how to create DeepCpG data files, train models, and evaluate models. These topics are described in greater detail in the [DeepCpG documentation](http://deepcpg.readthedocs.io/en/latest/)."
   ]
  },
  {
   "cell_type": "markdown",
   "metadata": {
    "deletable": true,
    "editable": true
   },
   "source": [
    "## Table of Contents\n",
    "* [Initialization](#Initialization)\n",
    "* [Creating DeepCpG data files](#Creating-DeepCpG-data-files)\n",
    "* [Training models](#Training-models)\n",
    "* [Imputing methylation profiles](#Imputing-methylation-profiles)\n",
    "* [Exporting methylation profiles](#Exporting-methylation-profiles)\n",
    "* [Evaluating prediction performances](#Evaluating-prediction-performances)"
   ]
  },
  {
   "cell_type": "markdown",
   "metadata": {
    "deletable": true,
    "editable": true
   },
   "source": [
    "## Initialization"
   ]
  },
  {
   "cell_type": "markdown",
   "metadata": {
    "deletable": true,
    "editable": true
   },
   "source": [
    "We first initialize some variables that will be used throughout the tutorial. `test_mode=1` should be used for testing purposes, which speeds up computations by only using a subset of the data. For real applications, `test_mode=0` should be used."
   ]
  },
  {
   "cell_type": "code",
   "execution_count": 1,
   "metadata": {
    "collapsed": false,
    "deletable": true,
    "editable": true
   },
   "outputs": [],
   "source": [
    "function run {\n",
    "  local cmd=$@\n",
    "  echo\n",
    "  echo \"#################################\"\n",
    "  echo $cmd\n",
    "  echo \"#################################\"\n",
    "  eval $cmd\n",
    "}\n",
    "\n",
    "test_mode=1 # Set to 1 for testing and 0 otherwise.\n",
    "example_dir=\"../../data\" # Example data.\n",
    "cpg_dir=\"$example_dir/cpg\" # CpG profiles.\n",
    "dna_dir=\"$example_dir/dna/mm10\" # DNA sequences.\n",
    "anno_dir=\"$example_dir/anno/mm10\" # Annotations of genomic contexts.\n",
    "\n",
    "data_dir=\"./data\" # DeepCpG data.\n",
    "models_dir=\"./models\" # Trained models.\n",
    "mkdir -p $models_dir\n",
    "eval_dir=\"./eval\" # Evaluation data.\n",
    "mkdir -p $eval_dir"
   ]
  },
  {
   "cell_type": "markdown",
   "metadata": {
    "deletable": true,
    "editable": true
   },
   "source": [
    "## Creating DeepCpG data files"
   ]
  },
  {
   "cell_type": "markdown",
   "metadata": {
    "deletable": true,
    "editable": true
   },
   "source": [
    "We first store the known CpG methylation states of each cell into a tab delimted file with the following columns:\n",
    "* Chromosome (without chr)\n",
    "* Position of the CpG site on the chromosome\n",
    "* Binary methylation state of the CpG sites (0=unmethylation, 1=methylated)\n",
    "\n",
    "CpG sites with a methylation rate between zero and one should be binarized by rounding. Filenames should correspond to cell names. \n",
    "\n",
    "Each position must point the cytosine residue of a CpG site (positions enumerated from 1). Otherwise `dcpg_data.py` will report warnings, e.g. if a wrong genome is used or CpG sites were not correctly aligned.\n",
    "\n",
    "For this tutorial we are using a subset of serum mouse embryonic stem cells from *Smallwood et al. (2014)*:"
   ]
  },
  {
   "cell_type": "code",
   "execution_count": 2,
   "metadata": {
    "collapsed": false,
    "deletable": true,
    "editable": true
   },
   "outputs": [
    {
     "name": "stdout",
     "output_type": "stream",
     "text": [
      "BS27_1_SER.tsv BS27_3_SER.tsv BS27_5_SER.tsv BS27_6_SER.tsv BS27_8_SER.tsv\n"
     ]
    }
   ],
   "source": [
    "ls $cpg_dir"
   ]
  },
  {
   "cell_type": "markdown",
   "metadata": {
    "deletable": true,
    "editable": true
   },
   "source": [
    "We can have a look at the methylation profile of cell 'BS27_1_SER':"
   ]
  },
  {
   "cell_type": "code",
   "execution_count": 3,
   "metadata": {
    "collapsed": false,
    "deletable": true,
    "editable": true
   },
   "outputs": [
    {
     "name": "stdout",
     "output_type": "stream",
     "text": [
      "1\t3000827\t1.0\n",
      "1\t3001007\t1.0\n",
      "1\t3001018\t1.0\n",
      "1\t3001277\t1.0\n",
      "1\t3001629\t1.0\n",
      "1\t3003226\t1.0\n",
      "1\t3003339\t1.0\n",
      "1\t3003379\t1.0\n",
      "1\t3006416\t1.0\n",
      "1\t3007580\t1.0\n"
     ]
    }
   ],
   "source": [
    "head \"$cpg_dir/BS27_1_SER.tsv\""
   ]
  },
  {
   "cell_type": "markdown",
   "metadata": {
    "deletable": true,
    "editable": true
   },
   "source": [
    "Since we are dealing with mouse cells, we are using the mm10 (GRCm38) mouse genome build:"
   ]
  },
  {
   "cell_type": "code",
   "execution_count": 4,
   "metadata": {
    "collapsed": false,
    "deletable": true,
    "editable": true
   },
   "outputs": [
    {
     "name": "stdout",
     "output_type": "stream",
     "text": [
      "Mus_musculus.GRCm38.dna.chromosome.1.fa.gz\n",
      "Mus_musculus.GRCm38.dna.chromosome.10.fa.gz\n",
      "Mus_musculus.GRCm38.dna.chromosome.11.fa.gz\n",
      "Mus_musculus.GRCm38.dna.chromosome.12.fa.gz\n",
      "Mus_musculus.GRCm38.dna.chromosome.13.fa.gz\n",
      "Mus_musculus.GRCm38.dna.chromosome.14.fa.gz\n",
      "Mus_musculus.GRCm38.dna.chromosome.15.fa.gz\n",
      "Mus_musculus.GRCm38.dna.chromosome.16.fa.gz\n",
      "Mus_musculus.GRCm38.dna.chromosome.17.fa.gz\n",
      "Mus_musculus.GRCm38.dna.chromosome.18.fa.gz\n",
      "Mus_musculus.GRCm38.dna.chromosome.19.fa.gz\n",
      "Mus_musculus.GRCm38.dna.chromosome.2.fa.gz\n",
      "Mus_musculus.GRCm38.dna.chromosome.3.fa.gz\n",
      "Mus_musculus.GRCm38.dna.chromosome.4.fa.gz\n",
      "Mus_musculus.GRCm38.dna.chromosome.5.fa.gz\n",
      "Mus_musculus.GRCm38.dna.chromosome.6.fa.gz\n",
      "Mus_musculus.GRCm38.dna.chromosome.7.fa.gz\n",
      "Mus_musculus.GRCm38.dna.chromosome.8.fa.gz\n",
      "Mus_musculus.GRCm38.dna.chromosome.9.fa.gz\n",
      "Mus_musculus.GRCm38.dna.chromosome.MT.fa.gz\n",
      "Mus_musculus.GRCm38.dna.chromosome.X.fa.gz\n",
      "Mus_musculus.GRCm38.dna.chromosome.Y.fa.gz\n"
     ]
    }
   ],
   "source": [
    "ls $dna_dir"
   ]
  },
  {
   "cell_type": "markdown",
   "metadata": {
    "deletable": true,
    "editable": true
   },
   "source": [
    "These files were downloaded by `setup.py`. Other genomes, e.g. human genome hg38, can be downloaded, for example, with the following command:\n",
    "\n",
    "```bash\n",
    "wget ftp://ftp.ensembl.org/pub/release-86/fasta/homo_sapiens/dna/Homo_sapiens.GRCh38.dna.chromosome.*.fa.gz\n",
    "```"
   ]
  },
  {
   "cell_type": "markdown",
   "metadata": {
    "deletable": true,
    "editable": true
   },
   "source": [
    "Now we can run `dcpg_data.py` to create the input data for DeepCpG. For testing purposes, we only consider a few CpG sites on chromosome 19:"
   ]
  },
  {
   "cell_type": "code",
   "execution_count": 5,
   "metadata": {
    "collapsed": false,
    "deletable": true,
    "editable": true
   },
   "outputs": [
    {
     "name": "stdout",
     "output_type": "stream",
     "text": [
      "\n",
      "#################################\n",
      "dcpg_data.py --cpg_profiles ../../data/cpg/BS27_1_SER.tsv ../../data/cpg/BS27_3_SER.tsv ../../data/cpg/BS27_5_SER.tsv ../../data/cpg/BS27_6_SER.tsv ../../data/cpg/BS27_8_SER.tsv --dna_files ../../data/dna/mm10 --out_dir ./data --cpg_wlen 50 --dna_wlen 1001 --chromo 1 13 --nb_sample_chromo 1000\n",
      "#################################\n",
      "INFO (2017-04-14 10:26:50,391): Reading CpG profiles ...\n",
      "INFO (2017-04-14 10:26:50,391): ../../data/cpg/BS27_1_SER.tsv\n",
      "INFO (2017-04-14 10:26:56,879): ../../data/cpg/BS27_3_SER.tsv\n",
      "INFO (2017-04-14 10:27:01,592): ../../data/cpg/BS27_5_SER.tsv\n",
      "INFO (2017-04-14 10:27:09,046): ../../data/cpg/BS27_6_SER.tsv\n",
      "INFO (2017-04-14 10:27:14,598): ../../data/cpg/BS27_8_SER.tsv\n",
      "INFO (2017-04-14 10:27:19,908): 2000 samples\n",
      "INFO (2017-04-14 10:27:19,908): --------------------------------------------------------------------------------\n",
      "INFO (2017-04-14 10:27:19,909): Chromosome 1 ...\n",
      "INFO (2017-04-14 10:27:19,923): 1000 / 1000 (100.0%) sites matched minimum coverage filter\n",
      "INFO (2017-04-14 10:27:23,697): Chunk \t1 / 1\n",
      "INFO (2017-04-14 10:27:23,703): Extracting DNA sequence windows ...\n",
      "INFO (2017-04-14 10:27:24,124): Extracting CpG neighbors ...\n",
      "INFO (2017-04-14 10:27:24,240): --------------------------------------------------------------------------------\n",
      "INFO (2017-04-14 10:27:24,240): Chromosome 13 ...\n",
      "INFO (2017-04-14 10:27:24,254): 1000 / 1000 (100.0%) sites matched minimum coverage filter\n",
      "INFO (2017-04-14 10:27:26,493): Chunk \t1 / 1\n",
      "INFO (2017-04-14 10:27:26,499): Extracting DNA sequence windows ...\n",
      "INFO (2017-04-14 10:27:26,779): Extracting CpG neighbors ...\n",
      "INFO (2017-04-14 10:27:26,898): Done!\n"
     ]
    }
   ],
   "source": [
    "cmd=\"dcpg_data.py\n",
    "    --cpg_profiles $cpg_dir/*.tsv\n",
    "    --dna_files $dna_dir\n",
    "    --out_dir $data_dir\n",
    "    --cpg_wlen 50\n",
    "    --dna_wlen 1001\n",
    "\"\n",
    "if [[ $test_mode -eq 1 ]]; then\n",
    "    cmd=\"$cmd\n",
    "        --chromo 1 13\n",
    "        --nb_sample_chromo 1000\n",
    "        \"\n",
    "fi\n",
    "run $cmd"
   ]
  },
  {
   "cell_type": "markdown",
   "metadata": {
    "deletable": true,
    "editable": true
   },
   "source": [
    "For each CpG site that is observed in at least one cell, this command extracts the 50 neighboring CpG sites (25 to the left and 25 to the right), and the 1001 bp long DNA sequence window centered on the CpG site. In test mode, only 1000 CpG sites will be randomly sampled from chromosome 1 and 13. The command creates multiple HDF5 files with name `cX_FROM_TO.h5`, where `X` is the chromosome, and `FROM` and `TO` the index of CpG sites stored in the file:"
   ]
  },
  {
   "cell_type": "code",
   "execution_count": 6,
   "metadata": {
    "collapsed": false,
    "deletable": true,
    "editable": true
   },
   "outputs": [
    {
     "name": "stdout",
     "output_type": "stream",
     "text": [
      "c13_000000-001000.h5 c1_000000-001000.h5\n"
     ]
    }
   ],
   "source": [
    "ls $data_dir"
   ]
  },
  {
   "cell_type": "markdown",
   "metadata": {
    "deletable": true,
    "editable": true
   },
   "source": [
    "## Training models"
   ]
  },
  {
   "cell_type": "markdown",
   "metadata": {
    "deletable": true,
    "editable": true
   },
   "source": [
    "We can now train models on the created data. First, we need to split the data into a training, validation set, and test set. The training set should contain at least 3 million CpG sites. We will use chromosome 1, 3, 5, 7, and 19 as training set, and chromosome 13, 14, 15, 16, and 17 as validation set:"
   ]
  },
  {
   "cell_type": "code",
   "execution_count": 7,
   "metadata": {
    "collapsed": false,
    "deletable": true,
    "editable": true
   },
   "outputs": [],
   "source": [
    "function get_data_files {\n",
    "  local data_dir=$1\n",
    "  shift\n",
    "  local chromos=$@\n",
    "\n",
    "  files=\"\"\n",
    "  for chromo in $chromos; do\n",
    "    files=\"$files $(ls $data_dir/c${chromo}_*.h5 2> /dev/null)\"\n",
    "  done\n",
    "  echo $files\n",
    "}\n",
    "\n",
    "train_files=$(get_data_files $data_dir 1 3 5 7 9)\n",
    "val_files=$(get_data_files $data_dir 13 14 15 16 17)"
   ]
  },
  {
   "cell_type": "code",
   "execution_count": 8,
   "metadata": {
    "collapsed": false,
    "deletable": true,
    "editable": true
   },
   "outputs": [
    {
     "name": "stdout",
     "output_type": "stream",
     "text": [
      "./data/c1_000000-001000.h5\n"
     ]
    }
   ],
   "source": [
    "echo $train_files"
   ]
  },
  {
   "cell_type": "code",
   "execution_count": 9,
   "metadata": {
    "collapsed": false,
    "deletable": true,
    "editable": true
   },
   "outputs": [
    {
     "name": "stdout",
     "output_type": "stream",
     "text": [
      "./data/c13_000000-001000.h5\n"
     ]
    }
   ],
   "source": [
    "echo $val_files"
   ]
  },
  {
   "cell_type": "markdown",
   "metadata": {
    "deletable": true,
    "editable": true
   },
   "source": [
    "We can count the number of CpG sites in the training set using `dcpg_data_stats.py`:"
   ]
  },
  {
   "cell_type": "code",
   "execution_count": 10,
   "metadata": {
    "collapsed": false,
    "deletable": true,
    "editable": true
   },
   "outputs": [
    {
     "name": "stdout",
     "output_type": "stream",
     "text": [
      "\n",
      "#################################\n",
      "dcpg_data_stats.py ./data/c1_000000-001000.h5\n",
      "#################################\n",
      "           output  nb_tot  nb_obs  frac_obs      mean       var\n",
      "0  cpg/BS27_1_SER    1000     187     0.187  0.775401  0.174154\n",
      "1  cpg/BS27_3_SER    1000     208     0.208  0.711538  0.205251\n",
      "2  cpg/BS27_5_SER    1000     200     0.200  0.690000  0.213900\n",
      "3  cpg/BS27_6_SER    1000     195     0.195  0.666667  0.222222\n",
      "4  cpg/BS27_8_SER    1000     210     0.210  0.776190  0.173719\n"
     ]
    }
   ],
   "source": [
    "cmd=\"dcpg_data_stats.py $train_files\"\n",
    "run $cmd"
   ]
  },
  {
   "cell_type": "markdown",
   "metadata": {
    "deletable": true,
    "editable": true
   },
   "source": [
    "For each output cell, `nb_tot` is the total number of CpG sites, `nb_obs` the number of CpG sites with known methylation state, `frac_obs` the ratio between `nb_obs` and `nb_tot`, `mean` the mean methylation rate, and `var` the variance of the methylation rate.\n",
    "\n",
    "We can now train our model. DeepCpG consists of a *DNA*, *CpG*, and *Joint model*, which can be trained either jointly or separately. We will train them jointly, starting with the CpG model:"
   ]
  },
  {
   "cell_type": "code",
   "execution_count": 11,
   "metadata": {
    "collapsed": false,
    "deletable": true,
    "editable": true
   },
   "outputs": [
    {
     "name": "stdout",
     "output_type": "stream",
     "text": [
      "\n",
      "#################################\n",
      "dcpg_train.py ./data/c1_000000-001000.h5 --val_files ./data/c13_000000-001000.h5 --cpg_model RnnL1 --out_dir ./models/cpg --nb_epoch 1 --nb_train_sample 1000 --nb_val_sample 1000\n",
      "#################################\n",
      "Using TensorFlow backend.\n",
      "INFO (2017-04-14 10:27:34,697): Building model ...\n",
      "Replicate names:\n",
      "BS27_1_SER, BS27_3_SER, BS27_5_SER, BS27_6_SER, BS27_8_SER\n",
      "\n",
      "INFO (2017-04-14 10:27:34,703): Building CpG model ...\n",
      "____________________________________________________________________________________________________\n",
      "Layer (type)                     Output Shape          Param #     Connected to                     \n",
      "====================================================================================================\n",
      "cpg/state (InputLayer)           (None, 5, 50)         0                                            \n",
      "____________________________________________________________________________________________________\n",
      "cpg/dist (InputLayer)            (None, 5, 50)         0                                            \n",
      "____________________________________________________________________________________________________\n",
      "cpg/merge_1 (Merge)              (None, 5, 100)        0           cpg/state[0][0]                  \n",
      "                                                                   cpg/dist[0][0]                   \n",
      "____________________________________________________________________________________________________\n",
      "cpg/timedistributed_1 (TimeDistr (None, 5, 256)        25856       cpg/merge_1[0][0]                \n",
      "____________________________________________________________________________________________________\n",
      "cpg/bidirectional_1 (Bidirection (None, 512)           787968      cpg/timedistributed_1[0][0]      \n",
      "____________________________________________________________________________________________________\n",
      "cpg/dropout_1 (Dropout)          (None, 512)           0           cpg/bidirectional_1[0][0]        \n",
      "____________________________________________________________________________________________________\n",
      "cpg/BS27_1_SER (Dense)           (None, 1)             513         cpg/dropout_1[0][0]              \n",
      "____________________________________________________________________________________________________\n",
      "cpg/BS27_3_SER (Dense)           (None, 1)             513         cpg/dropout_1[0][0]              \n",
      "____________________________________________________________________________________________________\n",
      "cpg/BS27_5_SER (Dense)           (None, 1)             513         cpg/dropout_1[0][0]              \n",
      "____________________________________________________________________________________________________\n",
      "cpg/BS27_6_SER (Dense)           (None, 1)             513         cpg/dropout_1[0][0]              \n",
      "____________________________________________________________________________________________________\n",
      "cpg/BS27_8_SER (Dense)           (None, 1)             513         cpg/dropout_1[0][0]              \n",
      "====================================================================================================\n",
      "Total params: 816,389\n",
      "Trainable params: 816,389\n",
      "Non-trainable params: 0\n",
      "____________________________________________________________________________________________________\n",
      "INFO (2017-04-14 10:27:35,361): Computing output statistics ...\n",
      "Output statistics:\n",
      "          name | nb_tot | nb_obs | frac_obs | mean |  var\n",
      "---------------------------------------------------------\n",
      "cpg/BS27_1_SER |   1000 |    187 |     0.19 | 0.78 | 0.17\n",
      "cpg/BS27_3_SER |   1000 |    208 |     0.21 | 0.71 | 0.21\n",
      "cpg/BS27_5_SER |   1000 |    200 |     0.20 | 0.69 | 0.21\n",
      "cpg/BS27_6_SER |   1000 |    195 |     0.20 | 0.67 | 0.22\n",
      "cpg/BS27_8_SER |   1000 |    210 |     0.21 | 0.78 | 0.17\n",
      "\n",
      "Class weights:\n",
      "cpg/BS27_1_SER | cpg/BS27_3_SER | cpg/BS27_5_SER | cpg/BS27_6_SER | cpg/BS27_8_SER\n",
      "----------------------------------------------------------------------------------\n",
      "        0=0.78 |         0=0.71 |         0=0.69 |         0=0.67 |         0=0.78\n",
      "        1=0.22 |         1=0.29 |         1=0.31 |         1=0.33 |         1=0.22\n",
      "\n",
      "INFO (2017-04-14 10:27:35,888): Loading data ...\n",
      "INFO (2017-04-14 10:27:35,892): Initializing callbacks ...\n",
      "INFO (2017-04-14 10:27:35,892): Training model ...\n",
      "\n",
      "Training samples: 1000\n",
      "Validation samples: 1000\n",
      "Epochs: 1\n",
      "Learning rate: 0.0001\n",
      "====================================================================================================\n",
      "Epoch 1/1\n",
      "====================================================================================================\n",
      "done (%) | time |   loss |    acc | cpg/BS27_1_SER_loss | cpg/BS27_3_SER_loss | cpg/BS27_5_SER_loss | cpg/BS27_6_SER_loss | cpg/BS27_8_SER_loss | cpg/BS27_1_SER_acc | cpg/BS27_3_SER_acc | cpg/BS27_5_SER_acc | cpg/BS27_6_SER_acc | cpg/BS27_8_SER_acc\n",
      "--------------------------------------------------------------------------------------------------------------------------------------------------------------------------------------------------------------------------------------------------------\n",
      "    12.8 |  0.0 | 5.0195 | 0.4144 |              0.0461 |              0.0569 |              0.0591 |              0.0610 |              0.0495 |             0.1200 |             0.5217 |             0.3462 |             0.3600 |             0.7241\n",
      "    25.6 |  0.0 | 5.0225 | 0.4290 |              0.0483 |              0.0628 |              0.0599 |              0.0581 |              0.0503 |             0.2339 |             0.5109 |             0.4531 |             0.2887 |             0.6584\n",
      "    38.4 |  0.0 | 5.0225 | 0.4215 |              0.0455 |              0.0611 |              0.0624 |              0.0557 |              0.0585 |             0.2353 |             0.4795 |             0.4211 |             0.3425 |             0.6294\n",
      "    51.2 |  0.0 | 5.0164 | 0.4312 |              0.0457 |              0.0576 |              0.0627 |              0.0580 |              0.0569 |             0.2965 |             0.4164 |             0.4455 |             0.3908 |             0.6067\n",
      "    64.0 |  0.0 | 5.0125 | 0.4199 |              0.0485 |              0.0595 |              0.0627 |              0.0579 |              0.0519 |             0.3184 |             0.3931 |             0.4524 |             0.4026 |             0.5329\n",
      "    76.8 |  0.0 | 5.0053 | 0.4155 |              0.0457 |              0.0635 |              0.0596 |              0.0594 |              0.0490 |             0.3591 |             0.3609 |             0.4559 |             0.4269 |             0.4744\n",
      "    89.6 |  0.0 | 5.0022 | 0.4281 |              0.0468 |              0.0612 |              0.0583 |              0.0611 |              0.0503 |             0.4083 |             0.3483 |             0.4529 |             0.4527 |             0.4781\n",
      "   100.0 |  0.0 | 4.9983 | 0.4316 |              0.0459 |              0.0594 |              0.0603 |              0.0608 |              0.0507 |             0.4410 |             0.3488 |             0.4443 |             0.4576 |             0.4662\n",
      "Epoch 00000: val_loss improved from inf to 5.38326, saving model to ./models/cpg/model_weights_val.h5\n",
      "\n",
      " split |   loss |    acc | cpg/BS27_1_SER_loss | cpg/BS27_3_SER_loss | cpg/BS27_5_SER_loss | cpg/BS27_6_SER_loss | cpg/BS27_8_SER_loss | cpg/BS27_1_SER_acc | cpg/BS27_3_SER_acc | cpg/BS27_5_SER_acc | cpg/BS27_6_SER_acc | cpg/BS27_8_SER_acc\n",
      "-----------------------------------------------------------------------------------------------------------------------------------------------------------------------------------------------------------------------------------------------\n",
      " train | 4.9983 | 0.4316 |              0.0459 |              0.0594 |              0.0603 |              0.0608 |              0.0507 |             0.4410 |             0.3488 |             0.4443 |             0.4576 |             0.4662\n",
      "   val | 5.3833 | 0.5048 |              0.1382 |              0.1420 |              0.1343 |              0.1407 |              0.1415 |             0.6551 |             0.3811 |             0.4814 |             0.6307 |             0.3756\n",
      "====================================================================================================\n",
      "\n",
      "Training set performance:\n",
      "  loss |    acc | cpg/BS27_1_SER_loss | cpg/BS27_3_SER_loss | cpg/BS27_5_SER_loss | cpg/BS27_6_SER_loss | cpg/BS27_8_SER_loss | cpg/BS27_1_SER_acc | cpg/BS27_3_SER_acc | cpg/BS27_5_SER_acc | cpg/BS27_6_SER_acc | cpg/BS27_8_SER_acc\n",
      "--------------------------------------------------------------------------------------------------------------------------------------------------------------------------------------------------------------------------------------\n",
      "4.9983 | 0.4316 |              0.0459 |              0.0594 |              0.0603 |              0.0608 |              0.0507 |             0.4410 |             0.3488 |             0.4443 |             0.4576 |             0.4662\n",
      "\n",
      "Validation set performance:\n",
      "  loss |    acc | cpg/BS27_1_SER_loss | cpg/BS27_3_SER_loss | cpg/BS27_5_SER_loss | cpg/BS27_6_SER_loss | cpg/BS27_8_SER_loss | cpg/BS27_1_SER_acc | cpg/BS27_3_SER_acc | cpg/BS27_5_SER_acc | cpg/BS27_6_SER_acc | cpg/BS27_8_SER_acc\n",
      "--------------------------------------------------------------------------------------------------------------------------------------------------------------------------------------------------------------------------------------\n",
      "5.3833 | 0.5048 |              0.1382 |              0.1420 |              0.1343 |              0.1407 |              0.1415 |             0.6551 |             0.3811 |             0.4814 |             0.6307 |             0.3756\n",
      "INFO (2017-04-14 10:27:53,178): Done!\n"
     ]
    }
   ],
   "source": [
    "cmd=\"dcpg_train.py\n",
    "    $train_files\n",
    "    --val_files $val_files\n",
    "    --cpg_model RnnL1\n",
    "    --out_dir $models_dir/cpg\n",
    "    \"\n",
    "if [[ $test_mode -eq 1 ]]; then\n",
    "    cmd=\"$cmd\n",
    "        --nb_epoch 1\n",
    "        --nb_train_sample 1000\n",
    "        --nb_val_sample 1000\n",
    "    \"\n",
    "else\n",
    "    cmd=\"$cmd\n",
    "        --nb_epoch 30\n",
    "        \"\n",
    "fi\n",
    "run $cmd"
   ]
  },
  {
   "cell_type": "markdown",
   "metadata": {
    "deletable": true,
    "editable": true
   },
   "source": [
    "`--RnnL1` specifies the architecture of the CpG model and `--nb_epoch` the number of training epochs. These are hyper-parameters, which can be adapted depending on the size of the training set and model complexitiy. For testing purposes, we decrease the number of samples using `--nb_train_sample` and `--nb_val_sample`."
   ]
  },
  {
   "cell_type": "markdown",
   "metadata": {
    "deletable": true,
    "editable": true
   },
   "source": [
    "The CpG model is often times already quite accurate on its own. However, we can further boost the performance by also training a DNA model, which leverage the DNA sequence:"
   ]
  },
  {
   "cell_type": "code",
   "execution_count": 12,
   "metadata": {
    "collapsed": false,
    "deletable": true,
    "editable": true
   },
   "outputs": [
    {
     "name": "stdout",
     "output_type": "stream",
     "text": [
      "\n",
      "#################################\n",
      "dcpg_train.py ./data/c1_000000-001000.h5 --val_files ./data/c13_000000-001000.h5 --dna_model CnnL2h128 --out_dir ./models/dna --nb_epoch 1 --nb_train_sample 1000 --nb_val_sample 1000\n",
      "#################################\n",
      "Using TensorFlow backend.\n",
      "INFO (2017-04-14 10:27:57,142): Building model ...\n",
      "INFO (2017-04-14 10:27:57,145): Building DNA model ...\n",
      "____________________________________________________________________________________________________\n",
      "Layer (type)                     Output Shape          Param #     Connected to                     \n",
      "====================================================================================================\n",
      "dna (InputLayer)                 (None, 1001, 4)       0                                            \n",
      "____________________________________________________________________________________________________\n",
      "dna/convolution1d_1 (Convolution (None, 991, 128)      5760        dna[0][0]                        \n",
      "____________________________________________________________________________________________________\n",
      "dna/activation_1 (Activation)    (None, 991, 128)      0           dna/convolution1d_1[0][0]        \n",
      "____________________________________________________________________________________________________\n",
      "dna/maxpooling1d_1 (MaxPooling1D (None, 247, 128)      0           dna/activation_1[0][0]           \n",
      "____________________________________________________________________________________________________\n",
      "dna/convolution1d_2 (Convolution (None, 245, 256)      98560       dna/maxpooling1d_1[0][0]         \n",
      "____________________________________________________________________________________________________\n",
      "dna/activation_2 (Activation)    (None, 245, 256)      0           dna/convolution1d_2[0][0]        \n",
      "____________________________________________________________________________________________________\n",
      "dna/maxpooling1d_2 (MaxPooling1D (None, 122, 256)      0           dna/activation_2[0][0]           \n",
      "____________________________________________________________________________________________________\n",
      "dna/flatten_1 (Flatten)          (None, 31232)         0           dna/maxpooling1d_2[0][0]         \n",
      "____________________________________________________________________________________________________\n",
      "dna/dense_1 (Dense)              (None, 128)           3997824     dna/flatten_1[0][0]              \n",
      "____________________________________________________________________________________________________\n",
      "dna/activation_3 (Activation)    (None, 128)           0           dna/dense_1[0][0]                \n",
      "____________________________________________________________________________________________________\n",
      "dna/dropout_1 (Dropout)          (None, 128)           0           dna/activation_3[0][0]           \n",
      "____________________________________________________________________________________________________\n",
      "cpg/BS27_1_SER (Dense)           (None, 1)             129         dna/dropout_1[0][0]              \n",
      "____________________________________________________________________________________________________\n",
      "cpg/BS27_3_SER (Dense)           (None, 1)             129         dna/dropout_1[0][0]              \n",
      "____________________________________________________________________________________________________\n",
      "cpg/BS27_5_SER (Dense)           (None, 1)             129         dna/dropout_1[0][0]              \n",
      "____________________________________________________________________________________________________\n",
      "cpg/BS27_6_SER (Dense)           (None, 1)             129         dna/dropout_1[0][0]              \n",
      "____________________________________________________________________________________________________\n",
      "cpg/BS27_8_SER (Dense)           (None, 1)             129         dna/dropout_1[0][0]              \n",
      "====================================================================================================\n",
      "Total params: 4,102,789\n",
      "Trainable params: 4,102,789\n",
      "Non-trainable params: 0\n",
      "____________________________________________________________________________________________________\n",
      "INFO (2017-04-14 10:27:57,364): Computing output statistics ...\n",
      "Output statistics:\n",
      "          name | nb_tot | nb_obs | frac_obs | mean |  var\n",
      "---------------------------------------------------------\n",
      "cpg/BS27_1_SER |   1000 |    187 |     0.19 | 0.78 | 0.17\n",
      "cpg/BS27_3_SER |   1000 |    208 |     0.21 | 0.71 | 0.21\n",
      "cpg/BS27_5_SER |   1000 |    200 |     0.20 | 0.69 | 0.21\n",
      "cpg/BS27_6_SER |   1000 |    195 |     0.20 | 0.67 | 0.22\n",
      "cpg/BS27_8_SER |   1000 |    210 |     0.21 | 0.78 | 0.17\n",
      "\n",
      "Class weights:\n",
      "cpg/BS27_1_SER | cpg/BS27_3_SER | cpg/BS27_5_SER | cpg/BS27_6_SER | cpg/BS27_8_SER\n",
      "----------------------------------------------------------------------------------\n",
      "        0=0.78 |         0=0.71 |         0=0.69 |         0=0.67 |         0=0.78\n",
      "        1=0.22 |         1=0.29 |         1=0.31 |         1=0.33 |         1=0.22\n",
      "\n",
      "INFO (2017-04-14 10:27:57,811): Loading data ...\n",
      "INFO (2017-04-14 10:27:57,815): Initializing callbacks ...\n",
      "INFO (2017-04-14 10:27:57,815): Training model ...\n",
      "\n",
      "Training samples: 1000\n",
      "Validation samples: 1000\n",
      "Epochs: 1\n",
      "Learning rate: 0.0001\n",
      "====================================================================================================\n",
      "Epoch 1/1\n",
      "====================================================================================================\n",
      "done (%) | time |   loss |    acc | cpg/BS27_1_SER_loss | cpg/BS27_3_SER_loss | cpg/BS27_5_SER_loss | cpg/BS27_6_SER_loss | cpg/BS27_8_SER_loss | cpg/BS27_1_SER_acc | cpg/BS27_3_SER_acc | cpg/BS27_5_SER_acc | cpg/BS27_6_SER_acc | cpg/BS27_8_SER_acc\n",
      "--------------------------------------------------------------------------------------------------------------------------------------------------------------------------------------------------------------------------------------------------------\n",
      "    12.8 |  0.0 | 3.1027 | 0.5018 |              0.0423 |              0.0404 |              0.0722 |              0.0596 |              0.0549 |             0.8000 |             0.5500 |             0.3438 |             0.5652 |             0.2500\n",
      "    25.6 |  0.0 | 3.0962 | 0.4770 |              0.0441 |              0.0528 |              0.0657 |              0.0641 |              0.0567 |             0.6778 |             0.5898 |             0.4762 |             0.4033 |             0.2379\n",
      "    38.4 |  0.1 | 3.0768 | 0.4997 |              0.0373 |              0.0553 |              0.0705 |              0.0638 |              0.0575 |             0.7656 |             0.5877 |             0.4791 |             0.4155 |             0.2506\n",
      "    51.2 |  0.1 | 3.0570 | 0.4826 |              0.0448 |              0.0578 |              0.0679 |              0.0596 |              0.0547 |             0.7435 |             0.5657 |             0.4459 |             0.3866 |             0.2713\n",
      "    64.0 |  0.1 | 3.0312 | 0.4709 |              0.0450 |              0.0597 |              0.0628 |              0.0603 |              0.0513 |             0.7734 |             0.5259 |             0.4093 |             0.4133 |             0.2324\n",
      "    76.8 |  0.1 | 3.0065 | 0.4499 |              0.0465 |              0.0634 |              0.0588 |              0.0575 |              0.0483 |             0.7803 |             0.4810 |             0.4036 |             0.3841 |             0.2003\n",
      "    89.6 |  0.1 | 2.9857 | 0.4438 |              0.0461 |              0.0612 |              0.0572 |              0.0586 |              0.0506 |             0.7732 |             0.4772 |             0.3784 |             0.3769 |             0.2132\n",
      "   100.0 |  0.2 | 2.9700 | 0.4499 |              0.0451 |              0.0592 |              0.0593 |              0.0601 |              0.0506 |             0.7760 |             0.4731 |             0.3642 |             0.4125 |             0.2238\n",
      "Epoch 00000: val_loss improved from inf to 3.20989, saving model to ./models/dna/model_weights_val.h5\n",
      "\n",
      " split |   loss |    acc | cpg/BS27_1_SER_loss | cpg/BS27_3_SER_loss | cpg/BS27_5_SER_loss | cpg/BS27_6_SER_loss | cpg/BS27_8_SER_loss | cpg/BS27_1_SER_acc | cpg/BS27_3_SER_acc | cpg/BS27_5_SER_acc | cpg/BS27_6_SER_acc | cpg/BS27_8_SER_acc\n",
      "-----------------------------------------------------------------------------------------------------------------------------------------------------------------------------------------------------------------------------------------------\n",
      " train | 2.9700 | 0.4499 |              0.0451 |              0.0592 |              0.0593 |              0.0601 |              0.0506 |             0.7760 |             0.4731 |             0.3642 |             0.4125 |             0.2238\n",
      "   val | 3.2099 | 0.5143 |              0.1412 |              0.1386 |              0.1339 |              0.1434 |              0.1378 |             0.8071 |             0.6503 |             0.3238 |             0.5729 |             0.2174\n",
      "====================================================================================================\n",
      "\n",
      "Training set performance:\n",
      "  loss |    acc | cpg/BS27_1_SER_loss | cpg/BS27_3_SER_loss | cpg/BS27_5_SER_loss | cpg/BS27_6_SER_loss | cpg/BS27_8_SER_loss | cpg/BS27_1_SER_acc | cpg/BS27_3_SER_acc | cpg/BS27_5_SER_acc | cpg/BS27_6_SER_acc | cpg/BS27_8_SER_acc\n",
      "--------------------------------------------------------------------------------------------------------------------------------------------------------------------------------------------------------------------------------------\n",
      "2.9700 | 0.4499 |              0.0451 |              0.0592 |              0.0593 |              0.0601 |              0.0506 |             0.7760 |             0.4731 |             0.3642 |             0.4125 |             0.2238\n",
      "\n",
      "Validation set performance:\n",
      "  loss |    acc | cpg/BS27_1_SER_loss | cpg/BS27_3_SER_loss | cpg/BS27_5_SER_loss | cpg/BS27_6_SER_loss | cpg/BS27_8_SER_loss | cpg/BS27_1_SER_acc | cpg/BS27_3_SER_acc | cpg/BS27_5_SER_acc | cpg/BS27_6_SER_acc | cpg/BS27_8_SER_acc\n",
      "--------------------------------------------------------------------------------------------------------------------------------------------------------------------------------------------------------------------------------------\n",
      "3.2099 | 0.5143 |              0.1412 |              0.1386 |              0.1339 |              0.1434 |              0.1378 |             0.8071 |             0.6503 |             0.3238 |             0.5729 |             0.2174\n",
      "INFO (2017-04-14 10:28:17,323): Done!\n"
     ]
    }
   ],
   "source": [
    "cmd=\"dcpg_train.py\n",
    "    $train_files\n",
    "    --val_files $val_files\n",
    "    --dna_model CnnL2h128\n",
    "    --out_dir $models_dir/dna\n",
    "    \"\n",
    "if [[ $test_mode -eq 1 ]]; then\n",
    "    cmd=\"$cmd\n",
    "        --nb_epoch 1\n",
    "        --nb_train_sample 1000\n",
    "        --nb_val_sample 1000\n",
    "    \"\n",
    "else\n",
    "    cmd=\"$cmd\n",
    "        --nb_epoch 30\n",
    "        \"\n",
    "fi\n",
    "run $cmd"
   ]
  },
  {
   "cell_type": "markdown",
   "metadata": {
    "deletable": true,
    "editable": true
   },
   "source": [
    "Finally, we combine both models by training a Joint model:"
   ]
  },
  {
   "cell_type": "code",
   "execution_count": 13,
   "metadata": {
    "collapsed": false,
    "deletable": true,
    "editable": true
   },
   "outputs": [
    {
     "name": "stdout",
     "output_type": "stream",
     "text": [
      "\n",
      "#################################\n",
      "dcpg_train.py ./data/c1_000000-001000.h5 --val_files ./data/c13_000000-001000.h5 --dna_model ./models/dna --cpg_model ./models/cpg --joint_model JointL2h512 --train_models joint --out_dir ./models/joint --nb_epoch 1 --nb_train_sample 1000 --nb_val_sample 1000\n",
      "#################################\n",
      "Using TensorFlow backend.\n",
      "INFO (2017-04-14 10:28:21,112): Building model ...\n",
      "INFO (2017-04-14 10:28:21,115): Loading existing DNA model ...\n",
      "INFO (2017-04-14 10:28:21,115): Using model files ./models/dna/model.json ./models/dna/model_weights_val.h5\n",
      "Replicate names:\n",
      "BS27_1_SER, BS27_3_SER, BS27_5_SER, BS27_6_SER, BS27_8_SER\n",
      "\n",
      "INFO (2017-04-14 10:28:21,513): Loading existing CpG model ...\n",
      "INFO (2017-04-14 10:28:21,513): Using model files ./models/cpg/model.json ./models/cpg/model_weights_val.h5\n",
      "INFO (2017-04-14 10:28:22,546): Joining models ...\n",
      "____________________________________________________________________________________________________\n",
      "Layer (type)                     Output Shape          Param #     Connected to                     \n",
      "====================================================================================================\n",
      "dna (InputLayer)                 (None, 1001, 4)       0                                            \n",
      "____________________________________________________________________________________________________\n",
      "dna/convolution1d_1 (Convolution (None, 991, 128)      5760        dna[0][0]                        \n",
      "____________________________________________________________________________________________________\n",
      "dna/activation_1 (Activation)    (None, 991, 128)      0           dna/convolution1d_1[0][0]        \n",
      "____________________________________________________________________________________________________\n",
      "dna/maxpooling1d_1 (MaxPooling1D (None, 247, 128)      0           dna/activation_1[0][0]           \n",
      "____________________________________________________________________________________________________\n",
      "dna/convolution1d_2 (Convolution (None, 245, 256)      98560       dna/maxpooling1d_1[0][0]         \n",
      "____________________________________________________________________________________________________\n",
      "dna/activation_2 (Activation)    (None, 245, 256)      0           dna/convolution1d_2[0][0]        \n",
      "____________________________________________________________________________________________________\n",
      "dna/maxpooling1d_2 (MaxPooling1D (None, 122, 256)      0           dna/activation_2[0][0]           \n",
      "____________________________________________________________________________________________________\n",
      "cpg/state (InputLayer)           (None, 5, 50)         0                                            \n",
      "____________________________________________________________________________________________________\n",
      "cpg/dist (InputLayer)            (None, 5, 50)         0                                            \n",
      "____________________________________________________________________________________________________\n",
      "dna/flatten_1 (Flatten)          (None, 31232)         0           dna/maxpooling1d_2[0][0]         \n",
      "____________________________________________________________________________________________________\n",
      "cpg/merge_1 (Merge)              (None, 5, 100)        0           cpg/state[0][0]                  \n",
      "                                                                   cpg/dist[0][0]                   \n",
      "____________________________________________________________________________________________________\n",
      "dna/dense_1 (Dense)              (None, 128)           3997824     dna/flatten_1[0][0]              \n",
      "____________________________________________________________________________________________________\n",
      "cpg/timedistributed_1 (TimeDistr (None, 5, 256)        25856       cpg/merge_1[0][0]                \n",
      "____________________________________________________________________________________________________\n",
      "dna/activation_3 (Activation)    (None, 128)           0           dna/dense_1[0][0]                \n",
      "____________________________________________________________________________________________________\n",
      "cpg/bidirectional_1 (Bidirection (None, 512)           787968      cpg/timedistributed_1[0][0]      \n",
      "____________________________________________________________________________________________________\n",
      "dna/dropout_1 (Dropout)          (None, 128)           0           dna/activation_3[0][0]           \n",
      "____________________________________________________________________________________________________\n",
      "cpg/dropout_1 (Dropout)          (None, 512)           0           cpg/bidirectional_1[0][0]        \n",
      "____________________________________________________________________________________________________\n",
      "merge_1 (Merge)                  (None, 640)           0           dna/dropout_1[0][0]              \n",
      "                                                                   cpg/dropout_1[0][0]              \n",
      "____________________________________________________________________________________________________\n",
      "joint/dense_1 (Dense)            (None, 512)           328192      merge_1[0][0]                    \n",
      "____________________________________________________________________________________________________\n",
      "joint/activation_1 (Activation)  (None, 512)           0           joint/dense_1[0][0]              \n",
      "____________________________________________________________________________________________________\n",
      "joint/dropout_1 (Dropout)        (None, 512)           0           joint/activation_1[0][0]         \n",
      "____________________________________________________________________________________________________\n",
      "joint/dense_2 (Dense)            (None, 512)           262656      joint/dropout_1[0][0]            \n",
      "____________________________________________________________________________________________________\n",
      "joint/activation_2 (Activation)  (None, 512)           0           joint/dense_2[0][0]              \n",
      "____________________________________________________________________________________________________\n",
      "joint/dropout_2 (Dropout)        (None, 512)           0           joint/activation_2[0][0]         \n",
      "____________________________________________________________________________________________________\n",
      "cpg/BS27_1_SER (Dense)           (None, 1)             513         joint/dropout_2[0][0]            \n",
      "____________________________________________________________________________________________________\n",
      "cpg/BS27_3_SER (Dense)           (None, 1)             513         joint/dropout_2[0][0]            \n",
      "____________________________________________________________________________________________________\n",
      "cpg/BS27_5_SER (Dense)           (None, 1)             513         joint/dropout_2[0][0]            \n",
      "____________________________________________________________________________________________________\n",
      "cpg/BS27_6_SER (Dense)           (None, 1)             513         joint/dropout_2[0][0]            \n",
      "____________________________________________________________________________________________________\n",
      "cpg/BS27_8_SER (Dense)           (None, 1)             513         joint/dropout_2[0][0]            \n",
      "====================================================================================================\n",
      "Total params: 5,509,381\n",
      "Trainable params: 5,509,381\n",
      "Non-trainable params: 0\n",
      "____________________________________________________________________________________________________\n",
      "Layer trainability:\n",
      "                layer | trainable\n",
      "---------------------------------\n",
      "  dna/convolution1d_1 |     False\n",
      "     dna/activation_1 |     False\n",
      "   dna/maxpooling1d_1 |     False\n",
      "  dna/convolution1d_2 |     False\n",
      "     dna/activation_2 |     False\n",
      "   dna/maxpooling1d_2 |     False\n",
      "        dna/flatten_1 |     False\n",
      "          dna/dense_1 |     False\n",
      "cpg/timedistributed_1 |     False\n",
      "     dna/activation_3 |     False\n",
      "  cpg/bidirectional_1 |     False\n",
      "        dna/dropout_1 |     False\n",
      "        cpg/dropout_1 |     False\n",
      "        joint/dense_1 |      True\n",
      "   joint/activation_1 |      True\n",
      "      joint/dropout_1 |      True\n",
      "        joint/dense_2 |      True\n",
      "   joint/activation_2 |      True\n",
      "      joint/dropout_2 |      True\n",
      "\n",
      "INFO (2017-04-14 10:28:22,692): Computing output statistics ...\n",
      "Output statistics:\n",
      "          name | nb_tot | nb_obs | frac_obs | mean |  var\n",
      "---------------------------------------------------------\n",
      "cpg/BS27_1_SER |   1000 |    187 |     0.19 | 0.78 | 0.17\n",
      "cpg/BS27_3_SER |   1000 |    208 |     0.21 | 0.71 | 0.21\n",
      "cpg/BS27_5_SER |   1000 |    200 |     0.20 | 0.69 | 0.21\n",
      "cpg/BS27_6_SER |   1000 |    195 |     0.20 | 0.67 | 0.22\n",
      "cpg/BS27_8_SER |   1000 |    210 |     0.21 | 0.78 | 0.17\n",
      "\n",
      "Class weights:\n",
      "cpg/BS27_1_SER | cpg/BS27_3_SER | cpg/BS27_5_SER | cpg/BS27_6_SER | cpg/BS27_8_SER\n",
      "----------------------------------------------------------------------------------\n",
      "        0=0.78 |         0=0.71 |         0=0.69 |         0=0.67 |         0=0.78\n",
      "        1=0.22 |         1=0.29 |         1=0.31 |         1=0.33 |         1=0.22\n",
      "\n",
      "INFO (2017-04-14 10:28:23,205): Loading data ...\n",
      "INFO (2017-04-14 10:28:23,208): Initializing callbacks ...\n",
      "INFO (2017-04-14 10:28:23,208): Training model ...\n",
      "\n",
      "Training samples: 1000\n",
      "Validation samples: 1000\n",
      "Epochs: 1\n",
      "Learning rate: 0.0001\n",
      "====================================================================================================\n",
      "Epoch 1/1\n",
      "====================================================================================================\n",
      "done (%) | time |   loss |    acc | cpg/BS27_1_SER_loss | cpg/BS27_3_SER_loss | cpg/BS27_5_SER_loss | cpg/BS27_6_SER_loss | cpg/BS27_8_SER_loss | cpg/BS27_1_SER_acc | cpg/BS27_3_SER_acc | cpg/BS27_5_SER_acc | cpg/BS27_6_SER_acc | cpg/BS27_8_SER_acc\n",
      "--------------------------------------------------------------------------------------------------------------------------------------------------------------------------------------------------------------------------------------------------------\n",
      "    12.8 |  0.0 | 9.7520 | 0.6253 |              0.0326 |              0.0491 |              0.0584 |              0.0841 |              0.0343 |             0.9231 |             0.2727 |             0.6000 |             0.5806 |             0.7500\n",
      "    25.6 |  0.0 | 9.7728 | 0.5915 |              0.0427 |              0.0584 |              0.0623 |              0.0748 |              0.0474 |             0.7865 |             0.3328 |             0.5308 |             0.5703 |             0.7371\n",
      "    38.4 |  0.0 | 9.7655 | 0.5533 |              0.0367 |              0.0597 |              0.0651 |              0.0647 |              0.0586 |             0.8185 |             0.3330 |             0.4803 |             0.4278 |             0.7071\n",
      "    51.2 |  0.1 | 9.7612 | 0.5167 |              0.0449 |              0.0556 |              0.0627 |              0.0644 |              0.0591 |             0.7639 |             0.3122 |             0.3987 |             0.3949 |             0.7136\n",
      "    64.0 |  0.1 | 9.7530 | 0.5198 |              0.0489 |              0.0587 |              0.0616 |              0.0611 |              0.0545 |             0.7595 |             0.3060 |             0.4059 |             0.4002 |             0.7274\n",
      "    76.8 |  0.1 | 9.7414 | 0.5023 |              0.0473 |              0.0625 |              0.0594 |              0.0600 |              0.0503 |             0.7718 |             0.2892 |             0.3966 |             0.3682 |             0.6856\n",
      "    89.6 |  0.1 | 9.7334 | 0.4878 |              0.0475 |              0.0610 |              0.0583 |              0.0610 |              0.0501 |             0.7789 |             0.2836 |             0.3710 |             0.3685 |             0.6371\n",
      "   100.0 |  0.1 | 9.7288 | 0.4866 |              0.0466 |              0.0595 |              0.0602 |              0.0612 |              0.0512 |             0.7759 |             0.3126 |             0.3547 |             0.3648 |             0.6251\n",
      "Epoch 00000: val_loss improved from inf to 10.08812, saving model to ./models/joint/model_weights_val.h5\n",
      "\n",
      " split |    loss |    acc | cpg/BS27_1_SER_loss | cpg/BS27_3_SER_loss | cpg/BS27_5_SER_loss | cpg/BS27_6_SER_loss | cpg/BS27_8_SER_loss | cpg/BS27_1_SER_acc | cpg/BS27_3_SER_acc | cpg/BS27_5_SER_acc | cpg/BS27_6_SER_acc | cpg/BS27_8_SER_acc\n",
      "------------------------------------------------------------------------------------------------------------------------------------------------------------------------------------------------------------------------------------------------\n",
      " train |  9.7288 | 0.4866 |              0.0466 |              0.0595 |              0.0602 |              0.0612 |              0.0512 |             0.7759 |             0.3126 |             0.3547 |             0.3648 |             0.6251\n",
      "   val | 10.0881 | 0.5095 |              0.1356 |              0.1376 |              0.1391 |              0.1460 |              0.1380 |             0.7981 |             0.6195 |             0.3139 |             0.3500 |             0.4662\n",
      "====================================================================================================\n",
      "\n",
      "Training set performance:\n",
      "  loss |    acc | cpg/BS27_1_SER_loss | cpg/BS27_3_SER_loss | cpg/BS27_5_SER_loss | cpg/BS27_6_SER_loss | cpg/BS27_8_SER_loss | cpg/BS27_1_SER_acc | cpg/BS27_3_SER_acc | cpg/BS27_5_SER_acc | cpg/BS27_6_SER_acc | cpg/BS27_8_SER_acc\n",
      "--------------------------------------------------------------------------------------------------------------------------------------------------------------------------------------------------------------------------------------\n",
      "9.7288 | 0.4866 |              0.0466 |              0.0595 |              0.0602 |              0.0612 |              0.0512 |             0.7759 |             0.3126 |             0.3547 |             0.3648 |             0.6251\n",
      "\n",
      "Validation set performance:\n",
      "   loss |    acc | cpg/BS27_1_SER_loss | cpg/BS27_3_SER_loss | cpg/BS27_5_SER_loss | cpg/BS27_6_SER_loss | cpg/BS27_8_SER_loss | cpg/BS27_1_SER_acc | cpg/BS27_3_SER_acc | cpg/BS27_5_SER_acc | cpg/BS27_6_SER_acc | cpg/BS27_8_SER_acc\n",
      "---------------------------------------------------------------------------------------------------------------------------------------------------------------------------------------------------------------------------------------\n",
      "10.0881 | 0.5095 |              0.1356 |              0.1376 |              0.1391 |              0.1460 |              0.1380 |             0.7981 |             0.6195 |             0.3139 |             0.3500 |             0.4662\n",
      "INFO (2017-04-14 10:28:48,257): Done!\n"
     ]
    }
   ],
   "source": [
    "cmd=\"dcpg_train.py\n",
    "    $train_files\n",
    "    --val_files $val_files\n",
    "    --dna_model $models_dir/dna\n",
    "    --cpg_model $models_dir/cpg\n",
    "    --joint_model JointL2h512\n",
    "    --train_models joint\n",
    "    --out_dir $models_dir/joint\n",
    "\"\n",
    "if [[ $test_mode -eq 1 ]]; then\n",
    "    cmd=\"$cmd\n",
    "        --nb_epoch 1\n",
    "        --nb_train_sample 1000\n",
    "        --nb_val_sample 1000\n",
    "    \"\n",
    "else\n",
    "    cmd=\"$cmd\n",
    "        --nb_epoch 10\n",
    "        \"\n",
    "fi\n",
    "run $cmd"
   ]
  },
  {
   "cell_type": "markdown",
   "metadata": {
    "deletable": true,
    "editable": true
   },
   "source": [
    "You can find more information about [training](http://deepcpg.readthedocs.io/en/latest/train.html) and [model architectures](http://deepcpg.readthedocs.io/en/latest/models.html) in the DeepCpG documentation."
   ]
  },
  {
   "cell_type": "markdown",
   "metadata": {
    "deletable": true,
    "editable": true
   },
   "source": [
    "## Imputing methylation profiles"
   ]
  },
  {
   "cell_type": "markdown",
   "metadata": {
    "deletable": true,
    "editable": true
   },
   "source": [
    "Finally, we use `dcpg_eval.py` to impute missing methylation states and to evaluate prediction performance on observed  states. We will use the trained Joint model, but could of course also evaluate the CpG or DNA model."
   ]
  },
  {
   "cell_type": "code",
   "execution_count": 14,
   "metadata": {
    "collapsed": false,
    "deletable": true,
    "editable": true
   },
   "outputs": [
    {
     "name": "stdout",
     "output_type": "stream",
     "text": [
      "\n",
      "#################################\n",
      "dcpg_eval.py ./data/c13_000000-001000.h5 ./data/c1_000000-001000.h5 --model_files ./models/joint --out_data ./eval/data.h5 --out_report ./eval/report.tsv --nb_sample 10000\n",
      "#################################\n",
      "Using TensorFlow backend.\n",
      "INFO (2017-04-14 10:28:52,032): Loading model ...\n",
      "INFO (2017-04-14 10:28:53,425): Loading data ...\n",
      "INFO (2017-04-14 10:28:53,429): Predicting ...\n",
      "INFO (2017-04-14 10:28:53,447):  128/2000 (6.4%)\n",
      "INFO (2017-04-14 10:28:54,343):  384/2000 (19.2%)\n",
      "INFO (2017-04-14 10:28:55,203):  640/2000 (32.0%)\n",
      "INFO (2017-04-14 10:28:56,036):  896/2000 (44.8%)\n",
      "INFO (2017-04-14 10:28:56,818): 1128/2000 (56.4%)\n",
      "INFO (2017-04-14 10:28:57,652): 1384/2000 (69.2%)\n",
      "INFO (2017-04-14 10:28:58,499): 1640/2000 (82.0%)\n",
      "INFO (2017-04-14 10:28:59,376): 1896/2000 (94.8%)\n",
      "INFO (2017-04-14 10:28:59,788): 2000/2000 (100.0%)\n",
      "/opt/local/Library/Frameworks/Python.framework/Versions/3.6/lib/python3.6/site-packages/sklearn/metrics/classification.py:1113: UndefinedMetricWarning: F-score is ill-defined and being set to 0.0 due to no predicted samples.\n",
      "  'precision', 'predicted', average, warn_for)\n",
      "/opt/local/Library/Frameworks/Python.framework/Versions/3.6/lib/python3.6/site-packages/sklearn/metrics/classification.py:516: RuntimeWarning: invalid value encountered in double_scalars\n",
      "  mcc = cov_ytyp / np.sqrt(var_yt * var_yp)\n",
      "           output       auc       acc       tpr       tnr        f1       mcc      n\n",
      "1  cpg/BS27_3_SER  0.585749  0.622549  0.668874  0.490566  0.724014  0.144615  408.0\n",
      "2  cpg/BS27_5_SER  0.541900  0.307888  0.000000  1.000000  0.000000  0.000000  393.0\n",
      "4  cpg/BS27_8_SER  0.539363  0.482843  0.438486  0.637363  0.568507  0.063941  408.0\n",
      "0  cpg/BS27_1_SER  0.526798  0.785166  0.990291  0.012195  0.879310  0.010059  391.0\n",
      "3  cpg/BS27_6_SER  0.501337  0.370647  0.100746  0.910448  0.175896  0.017829  402.0\n",
      "INFO (2017-04-14 10:29:00,257): Done!\n"
     ]
    }
   ],
   "source": [
    "cmd=\"dcpg_eval.py\n",
    "    $data_dir/c*.h5\n",
    "    --model_files $models_dir/joint\n",
    "    --out_data $eval_dir/data.h5\n",
    "    --out_report $eval_dir/report.tsv\n",
    "    \"\n",
    "if [[ $test_mode -eq 1 ]]; then\n",
    "    cmd=\"$cmd\n",
    "        --nb_sample 10000\n",
    "        \"\n",
    "fi\n",
    "run $cmd"
   ]
  },
  {
   "cell_type": "markdown",
   "metadata": {
    "deletable": true,
    "editable": true
   },
   "source": [
    "The imputed methylation profiles of all cells are stored in `data.h5`, and performance metrics in `report.tsv`."
   ]
  },
  {
   "cell_type": "code",
   "execution_count": 15,
   "metadata": {
    "collapsed": false,
    "deletable": true,
    "editable": true
   },
   "outputs": [
    {
     "name": "stdout",
     "output_type": "stream",
     "text": [
      "/                        Group\n",
      "/chromo                  Dataset {2000}\n",
      "/outputs                 Group\n",
      "/outputs/cpg             Group\n",
      "/outputs/cpg/BS27_1_SER  Dataset {2000}\n",
      "/outputs/cpg/BS27_3_SER  Dataset {2000}\n",
      "/outputs/cpg/BS27_5_SER  Dataset {2000}\n",
      "/outputs/cpg/BS27_6_SER  Dataset {2000}\n",
      "/outputs/cpg/BS27_8_SER  Dataset {2000}\n",
      "/pos                     Dataset {2000}\n",
      "/preds                   Group\n",
      "/preds/cpg               Group\n",
      "/preds/cpg/BS27_1_SER    Dataset {2000}\n",
      "/preds/cpg/BS27_3_SER    Dataset {2000}\n",
      "/preds/cpg/BS27_5_SER    Dataset {2000}\n",
      "/preds/cpg/BS27_6_SER    Dataset {2000}\n",
      "/preds/cpg/BS27_8_SER    Dataset {2000}\n"
     ]
    }
   ],
   "source": [
    "h5ls -r $eval_dir/data.h5"
   ]
  },
  {
   "cell_type": "code",
   "execution_count": 16,
   "metadata": {
    "collapsed": false,
    "deletable": true,
    "editable": true
   },
   "outputs": [
    {
     "name": "stdout",
     "output_type": "stream",
     "text": [
      "metric\toutput\tvalue\n",
      "acc\tcpg/BS27_1_SER\t0.7851662404092071\n",
      "acc\tcpg/BS27_3_SER\t0.6225490196078431\n",
      "acc\tcpg/BS27_5_SER\t0.30788804071246817\n",
      "acc\tcpg/BS27_6_SER\t0.3706467661691542\n",
      "acc\tcpg/BS27_8_SER\t0.48284313725490197\n",
      "auc\tcpg/BS27_1_SER\t0.5267976951614176\n",
      "auc\tcpg/BS27_3_SER\t0.5857490940897163\n",
      "auc\tcpg/BS27_5_SER\t0.541899611084103\n",
      "auc\tcpg/BS27_6_SER\t0.5013366005791936\n",
      "auc\tcpg/BS27_8_SER\t0.5393628453565362\n",
      "f1\tcpg/BS27_1_SER\t0.8793103448275862\n",
      "f1\tcpg/BS27_3_SER\t0.7240143369175627\n",
      "f1\tcpg/BS27_5_SER\t0.0\n",
      "f1\tcpg/BS27_6_SER\t0.17589576547231267\n",
      "f1\tcpg/BS27_8_SER\t0.5685071574642127\n",
      "mcc\tcpg/BS27_1_SER\t0.010059326521099646\n",
      "mcc\tcpg/BS27_3_SER\t0.1446147146482661\n",
      "mcc\tcpg/BS27_5_SER\t0.0\n",
      "mcc\tcpg/BS27_6_SER\t0.017828739558016723\n",
      "mcc\tcpg/BS27_8_SER\t0.06394060856947545\n",
      "n\tcpg/BS27_1_SER\t391.0\n",
      "n\tcpg/BS27_3_SER\t408.0\n",
      "n\tcpg/BS27_5_SER\t393.0\n",
      "n\tcpg/BS27_6_SER\t402.0\n",
      "n\tcpg/BS27_8_SER\t408.0\n",
      "tnr\tcpg/BS27_1_SER\t0.012195121951219513\n",
      "tnr\tcpg/BS27_3_SER\t0.49056603773584906\n",
      "tnr\tcpg/BS27_5_SER\t1.0\n",
      "tnr\tcpg/BS27_6_SER\t0.9104477611940298\n",
      "tnr\tcpg/BS27_8_SER\t0.6373626373626373\n",
      "tpr\tcpg/BS27_1_SER\t0.9902912621359223\n",
      "tpr\tcpg/BS27_3_SER\t0.6688741721854304\n",
      "tpr\tcpg/BS27_5_SER\t0.0\n",
      "tpr\tcpg/BS27_6_SER\t0.10074626865671642\n",
      "tpr\tcpg/BS27_8_SER\t0.4384858044164038\n"
     ]
    }
   ],
   "source": [
    "cat $eval_dir/report.tsv"
   ]
  },
  {
   "cell_type": "markdown",
   "metadata": {
    "deletable": true,
    "editable": true
   },
   "source": [
    "## Exporting methylation profiles"
   ]
  },
  {
   "cell_type": "markdown",
   "metadata": {
    "deletable": true,
    "editable": true
   },
   "source": [
    "`dcpg_eval_export.py` can be used to export imputed methylation profiles:"
   ]
  },
  {
   "cell_type": "code",
   "execution_count": 17,
   "metadata": {
    "collapsed": false,
    "deletable": true,
    "editable": true
   },
   "outputs": [
    {
     "name": "stdout",
     "output_type": "stream",
     "text": [
      "INFO (2017-04-14 10:29:02,007): cpg/BS27_1_SER\n",
      "INFO (2017-04-14 10:29:02,014): cpg/BS27_3_SER\n",
      "INFO (2017-04-14 10:29:02,019): cpg/BS27_5_SER\n",
      "INFO (2017-04-14 10:29:02,023): cpg/BS27_6_SER\n",
      "INFO (2017-04-14 10:29:02,028): cpg/BS27_8_SER\n",
      "INFO (2017-04-14 10:29:02,033): Done!\n"
     ]
    }
   ],
   "source": [
    "cmd=\"dcpg_eval_export.py\n",
    "    $eval_dir/data.h5\n",
    "    -o $eval_dir/hdf\n",
    "    -f hdf\n",
    "\"\n",
    "eval $cmd"
   ]
  },
  {
   "cell_type": "code",
   "execution_count": 18,
   "metadata": {
    "collapsed": false,
    "deletable": true,
    "editable": true,
    "scrolled": true
   },
   "outputs": [
    {
     "name": "stdout",
     "output_type": "stream",
     "text": [
      "BS27_1_SER.h5 BS27_3_SER.h5 BS27_5_SER.h5 BS27_6_SER.h5 BS27_8_SER.h5\n"
     ]
    }
   ],
   "source": [
    "ls $eval_dir/hdf"
   ]
  },
  {
   "cell_type": "markdown",
   "metadata": {
    "deletable": true,
    "editable": true
   },
   "source": [
    "By default, `dcpg_eval_export.py` exports profiles to HDF5 files. You can use `-f bedGraph` to export profiles to gzip-compressed bedGraph files, which, however, takes longer."
   ]
  },
  {
   "cell_type": "markdown",
   "metadata": {
    "deletable": true,
    "editable": true
   },
   "source": [
    "## Evaluating prediction performances"
   ]
  },
  {
   "cell_type": "markdown",
   "metadata": {
    "deletable": true,
    "editable": true
   },
   "source": [
    "`dcpg_eval_perf.py` enables evaluating prediction performances genome wide, in specific genomic contexts, and by computing performance curves. Using `--anno_files`, you can specify a list of BED files with annotation tracks that are evaluated, and you can compute  ROC and precision recall (PR) curves for individual outputs using `--curves roc pr`. You can also use `--anno_curves roc pr` to compute performance curves for annotations specified by `--anno_files`."
   ]
  },
  {
   "cell_type": "code",
   "execution_count": 19,
   "metadata": {
    "collapsed": false,
    "deletable": true,
    "editable": true
   },
   "outputs": [
    {
     "name": "stdout",
     "output_type": "stream",
     "text": [
      "INFO (2017-04-14 10:29:03,746): Loading data ...\n",
      "INFO (2017-04-14 10:29:03,760): 2000 samples\n",
      "INFO (2017-04-14 10:29:03,760): Evaluating globally ...\n",
      "/opt/local/Library/Frameworks/Python.framework/Versions/3.6/lib/python3.6/site-packages/sklearn/metrics/classification.py:1113: UndefinedMetricWarning: F-score is ill-defined and being set to 0.0 due to no predicted samples.\n",
      "  'precision', 'predicted', average, warn_for)\n",
      "/opt/local/Library/Frameworks/Python.framework/Versions/3.6/lib/python3.6/site-packages/sklearn/metrics/classification.py:516: RuntimeWarning: invalid value encountered in double_scalars\n",
      "  mcc = cov_ytyp / np.sqrt(var_yt * var_yp)\n",
      "           output    anno       auc       acc       tpr       tnr        f1       mcc      n\n",
      "1  cpg/BS27_3_SER  global  0.585749  0.622549  0.668874  0.490566  0.724014  0.144615  408.0\n",
      "2  cpg/BS27_5_SER  global  0.541900  0.307888  0.000000  1.000000  0.000000  0.000000  393.0\n",
      "4  cpg/BS27_8_SER  global  0.539363  0.482843  0.438486  0.637363  0.568507  0.063941  408.0\n",
      "0  cpg/BS27_1_SER  global  0.526798  0.785166  0.990291  0.012195  0.879310  0.010059  391.0\n",
      "3  cpg/BS27_6_SER  global  0.501337  0.370647  0.100746  0.910448  0.175896  0.017829  402.0\n",
      "INFO (2017-04-14 10:29:03,828): roc curve\n",
      "INFO (2017-04-14 10:29:03,837): pr curve\n",
      "INFO (2017-04-14 10:29:03,846): Evaluating annotations ...\n",
      "INFO (2017-04-14 10:29:04,028): CGI: 312\n",
      "INFO (2017-04-14 10:29:04,348): CGI_shelf: 97\n",
      "INFO (2017-04-14 10:29:04,348): Skipping due to insufficient annotated sites!\n",
      "INFO (2017-04-14 10:29:04,639): CGI_shore: 120\n",
      "INFO (2017-04-14 10:29:04,874): Gene_body: 969\n",
      "INFO (2017-04-14 10:29:06,179): Introns: 724\n",
      "INFO (2017-04-14 10:29:07,814): Exons: 261\n",
      "INFO (2017-04-14 10:29:09,510): UW_DNase1: 160\n",
      "INFO (2017-04-14 10:29:09,534): Writing ./eval/perf/metrics.tsv ...\n",
      "INFO (2017-04-14 10:29:09,540): Writing ./eval/perf/curves.tsv ...\n",
      "INFO (2017-04-14 10:29:09,566): Done!\n"
     ]
    }
   ],
   "source": [
    "cmd=\"dcpg_eval_perf.py\n",
    "    $eval_dir/data.h5\n",
    "    --out_dir $eval_dir/perf\n",
    "    --curves roc pr\n",
    "    --anno_files $anno_dir/CGI*.bed $anno_dir/Gene_body.bed $anno_dir/Introns.bed $anno_dir/Exons.bed $anno_dir/UW_DNase1.bed\n",
    "\"\n",
    "eval $cmd"
   ]
  },
  {
   "cell_type": "markdown",
   "metadata": {
    "deletable": true,
    "editable": true
   },
   "source": [
    "Performance metrics are stored in `metrics.tsv`, and performances curves in `curves.tsv`:"
   ]
  },
  {
   "cell_type": "code",
   "execution_count": 20,
   "metadata": {
    "collapsed": false,
    "deletable": true,
    "editable": true
   },
   "outputs": [
    {
     "name": "stdout",
     "output_type": "stream",
     "text": [
      "anno\tmetric\toutput\tvalue\n",
      "global\tacc\tcpg/BS27_5_SER\t0.30789\n",
      "global\tacc\tcpg/BS27_6_SER\t0.37065\n",
      "global\tacc\tcpg/BS27_8_SER\t0.48284\n",
      "global\tacc\tcpg/BS27_3_SER\t0.62255\n",
      "global\tacc\tcpg/BS27_1_SER\t0.78517\n",
      "global\tauc\tcpg/BS27_6_SER\t0.50134\n",
      "global\tauc\tcpg/BS27_1_SER\t0.52680\n",
      "global\tauc\tcpg/BS27_8_SER\t0.53936\n",
      "global\tauc\tcpg/BS27_5_SER\t0.54190\n"
     ]
    }
   ],
   "source": [
    "head $eval_dir/perf/metrics.tsv"
   ]
  },
  {
   "cell_type": "code",
   "execution_count": 21,
   "metadata": {
    "collapsed": false,
    "deletable": true,
    "editable": true
   },
   "outputs": [
    {
     "name": "stdout",
     "output_type": "stream",
     "text": [
      "anno\tcurve\toutput\tx\ty\tthr\n",
      "global\troc\tcpg/BS27_1_SER\t0.00000\t0.00324\t0.55943\n",
      "global\troc\tcpg/BS27_1_SER\t0.00000\t0.01294\t0.55266\n",
      "global\troc\tcpg/BS27_1_SER\t0.01220\t0.01294\t0.55247\n",
      "global\troc\tcpg/BS27_1_SER\t0.01220\t0.02589\t0.55041\n",
      "global\troc\tcpg/BS27_1_SER\t0.02439\t0.02589\t0.54989\n",
      "global\troc\tcpg/BS27_1_SER\t0.02439\t0.03236\t0.54941\n",
      "global\troc\tcpg/BS27_1_SER\t0.03659\t0.03236\t0.54921\n",
      "global\troc\tcpg/BS27_1_SER\t0.03659\t0.07120\t0.54488\n",
      "global\troc\tcpg/BS27_1_SER\t0.06098\t0.07120\t0.54435\n"
     ]
    }
   ],
   "source": [
    "head $eval_dir/perf/curves.tsv"
   ]
  },
  {
   "cell_type": "markdown",
   "metadata": {
    "deletable": true,
    "editable": true
   },
   "source": [
    "You can find more annotation tracks in the example data directory:"
   ]
  },
  {
   "cell_type": "code",
   "execution_count": 22,
   "metadata": {
    "collapsed": false,
    "deletable": true,
    "editable": true
   },
   "outputs": [
    {
     "name": "stdout",
     "output_type": "stream",
     "text": [
      "Active_enhancers.bed H3K4me1.bed          Tet2.bed\n",
      "CGI.bed              H3K4me1_Tet1.bed     UW_DNase1.bed\n",
      "CGI_shelf.bed        IAP.bed              Wu_Tet1.bed\n",
      "CGI_shore.bed        Intergenic.bed       mESC_enhancers.bed\n",
      "Exons.bed            Introns.bed          p300.bed\n",
      "Gene_body.bed        LMRs.bed             prom_2k05k.bed\n",
      "H3K27ac.bed          Oct4_2i.bed          prom_2k05k_cgi.bed\n",
      "H3K27me3.bed         TSSs.bed             prom_2k05k_ncgi.bed\n"
     ]
    }
   ],
   "source": [
    "ls $anno_dir"
   ]
  },
  {
   "cell_type": "markdown",
   "metadata": {
    "deletable": true,
    "editable": true
   },
   "source": [
    "To visualize performances of a single model, you can use the Rmarkdown script `R/eval_perf_single.Rmd` in the DeepCpG directory. The following command will only work if you have installed R and the required libraries (rmarkdown, knitr, ggplot, dplyr, tidyr, xtable, grid). `R/eval_perf_mult.Rmd` can be used for a side-by-side comparison of multiple models."
   ]
  },
  {
   "cell_type": "code",
   "execution_count": 23,
   "metadata": {
    "collapsed": false,
    "deletable": true,
    "editable": true
   },
   "outputs": [
    {
     "name": "stdout",
     "output_type": "stream",
     "text": [
      "During startup - Warning messages:\n",
      "1: Setting LC_CTYPE failed, using \"C\" \n",
      "2: Setting LC_COLLATE failed, using \"C\" \n",
      "3: Setting LC_TIME failed, using \"C\" \n",
      "4: Setting LC_MESSAGES failed, using \"C\" \n",
      "5: Setting LC_MONETARY failed, using \"C\" \n",
      "\n",
      "\n",
      "processing file: index.Rmd\n",
      "  |...                                                              |   5%\n",
      "   inline R code fragments\n",
      "\n",
      "  |......                                                           |   9%\n",
      "label: unnamed-chunk-1 (with options) \n",
      "List of 1\n",
      " $ include: symbol F\n",
      "\n",
      "  |.........                                                        |  14%\n",
      "  ordinary text without R code\n",
      "\n",
      "  |............                                                     |  18%\n",
      "label: unnamed-chunk-2 (with options) \n",
      "List of 1\n",
      " $ include: symbol F\n",
      "\n",
      "\n",
      "Attaching package: 'dplyr'\n",
      "\n",
      "The following objects are masked from 'package:stats':\n",
      "\n",
      "    filter, lag\n",
      "\n",
      "The following objects are masked from 'package:base':\n",
      "\n",
      "    intersect, setdiff, setequal, union\n",
      "\n",
      "  |...............                                                  |  23%\n",
      "  ordinary text without R code\n",
      "\n",
      "  |..................                                               |  27%\n",
      "label: unnamed-chunk-3\n",
      "  |.....................                                            |  32%\n",
      "  ordinary text without R code\n",
      "\n",
      "  |........................                                         |  36%\n",
      "label: unnamed-chunk-4\n",
      "  |...........................                                      |  41%\n",
      "  ordinary text without R code\n",
      "\n",
      "  |..............................                                   |  45%\n",
      "label: unnamed-chunk-5\n",
      "  |................................                                 |  50%\n",
      "  ordinary text without R code\n",
      "\n",
      "  |...................................                              |  55%\n",
      "label: unnamed-chunk-6\n",
      "  |......................................                           |  59%\n",
      "  ordinary text without R code\n",
      "\n",
      "  |.........................................                        |  64%\n",
      "label: unnamed-chunk-7 (with options) \n",
      "List of 1\n",
      " $ results: chr \"asis\"\n",
      "\n",
      "  |............................................                     |  68%\n",
      "  ordinary text without R code\n",
      "\n",
      "  |...............................................                  |  73%\n",
      "label: unnamed-chunk-8 (with options) \n",
      "List of 2\n",
      " $ fig.width : num 10\n",
      " $ fig.height: num 10\n",
      "\n",
      "  |..................................................               |  77%\n",
      "  ordinary text without R code\n",
      "\n",
      "  |.....................................................            |  82%\n",
      "label: unnamed-chunk-9 (with options) \n",
      "List of 2\n",
      " $ fig.width : num 10\n",
      " $ fig.height: num 6\n",
      "\n",
      "  |........................................................         |  86%\n",
      "  ordinary text without R code\n",
      "\n",
      "  |...........................................................      |  91%\n",
      "label: unnamed-chunk-10 (with options) \n",
      "List of 1\n",
      " $ results: chr \"asis\"\n",
      "\n",
      "  |..............................................................   |  95%\n",
      "  ordinary text without R code\n",
      "\n",
      "  |.................................................................| 100%\n",
      "label: unnamed-chunk-11 (with options) \n",
      "List of 2\n",
      " $ fig.width : num 10\n",
      " $ fig.height: num 25\n",
      "\n",
      "\n",
      "output file: index.knit.md\n",
      "\n",
      "/opt/local/bin/pandoc +RTS -K512m -RTS index.utf8.md --to html --from markdown+autolink_bare_uris+ascii_identifiers+tex_math_single_backslash --output index.html --smart --email-obfuscation none --self-contained --standalone --section-divs --table-of-contents --toc-depth 3 --template /Users/angermue/Library/R/3.3/library/rmarkdown/rmd/h/default.html --no-highlight --variable highlightjs=1 --variable 'theme:bootstrap' --include-in-header /var/folders/5n/38b69b1x03n7bb63rbnlzd280000gn/T//RtmpKTFbAA/rmarkdown-strbca3cadbd8a.html --mathjax --variable 'mathjax-url:https://cdn.mathjax.org/mathjax/latest/MathJax.js?config=TeX-AMS-MML_HTMLorMML' \n",
      "\n",
      "Output created: index.html\n",
      "Warning messages:\n",
      "1: `axis.ticks.margin` is deprecated. Please set `margin` property  of `axis.text` instead \n",
      "2: `axis.ticks.margin` is deprecated. Please set `margin` property  of `axis.text` instead \n",
      "3: `axis.ticks.margin` is deprecated. Please set `margin` property  of `axis.text` instead \n"
     ]
    }
   ],
   "source": [
    "cp ../../../R/eval_perf_single.Rmd $eval_dir/perf/index.Rmd\n",
    "cwd=$PWD\n",
    "cd $eval_dir/perf\n",
    "Rscript -e \"library(rmarkdown); render('./index.Rmd', output_format='html_document')\"\n",
    "cd $cwd"
   ]
  },
  {
   "cell_type": "markdown",
   "metadata": {
    "deletable": true,
    "editable": true
   },
   "source": [
    "<a href='./eval/perf/index.html'>Prediction performance evaluation</a>"
   ]
  }
 ],
 "metadata": {
  "kernelspec": {
   "display_name": "Bash",
   "language": "bash",
   "name": "bash"
  },
  "language_info": {
   "codemirror_mode": "shell",
   "file_extension": ".sh",
   "mimetype": "text/x-sh",
   "name": "bash"
  }
 },
 "nbformat": 4,
 "nbformat_minor": 1
}
